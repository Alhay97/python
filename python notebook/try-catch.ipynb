{
 "cells": [
  {
   "cell_type": "code",
   "execution_count": 5,
   "metadata": {},
   "outputs": [
    {
     "name": "stdout",
     "output_type": "stream",
     "text": [
      "Error Denominator cannot be 0\n"
     ]
    }
   ],
   "source": [
    "#code that my casue the exception\n",
    "try:\n",
    "\tnumerator = int(input(\"Enter a numerator: \"))\n",
    "\tdenominator = int(input(\"Enter a denominator: \"))\n",
    "\tresult = numerator / denominator\n",
    "\tprint(result)\n",
    "#code to run when exception occurs\n",
    "except:\n",
    "\tprint(\"Error Denominator cannot be 0\")\n"
   ]
  },
  {
   "cell_type": "code",
   "execution_count": 7,
   "metadata": {},
   "outputs": [
    {
     "name": "stdout",
     "output_type": "stream",
     "text": [
      "6\n"
     ]
    }
   ],
   "source": [
    "try:\n",
    "\tindex = int(input(\"enter an index: \"))\n",
    "\teven = [2,4,6,8,10,12]\n",
    "\tprint(even[index])\n",
    "\n",
    "except ZeroDivisionError:\n",
    "\tprint(\"Error Denominator cannot be 0\")\n",
    "except IndexError:\n",
    "\tprint(\"Index Out of Bound\")\n"
   ]
  },
  {
   "cell_type": "markdown",
   "metadata": {},
   "source": []
  },
  {
   "cell_type": "code",
   "execution_count": 11,
   "metadata": {},
   "outputs": [
    {
     "name": "stdout",
     "output_type": "stream",
     "text": [
      "Name not found.\n"
     ]
    }
   ],
   "source": [
    "try:\n",
    "\tname = input(\"enter name: \")\n",
    "\tword = {\"alhai\": 26, \"omar\" : 21, \"aljaeedi\" : 25}\n",
    "\tprint(word[name])\n",
    "except:\n",
    "\tprint(\"Name not found.\")"
   ]
  },
  {
   "cell_type": "code",
   "execution_count": 18,
   "metadata": {},
   "outputs": [
    {
     "name": "stdout",
     "output_type": "stream",
     "text": [
      "0.5\n",
      "2 is the number and its reciprocal 0.5\n"
     ]
    }
   ],
   "source": [
    "try:\n",
    "     num = int(input(\"Enter a number: \"))\n",
    "     assert num % 2 == 0\n",
    "except:\n",
    "     print(\"{} is not an odd number\".format(num))\n",
    "     \n",
    "else:\n",
    "     recip = 1/num\n",
    "     print(recip)\n",
    "\n",
    "finally:\n",
    "     recip = 1/num\n",
    "     print(\"{} is the number and its reciprocal {}\".format(num, recip))\n"
   ]
  },
  {
   "cell_type": "code",
   "execution_count": 3,
   "metadata": {},
   "outputs": [
    {
     "data": {
      "text/plain": [
       "['.DS_Store',\n",
       " '__pycache__',\n",
       " 'calculater.py',\n",
       " 'const.py',\n",
       " 'dictionary.txt',\n",
       " 'exersise.py',\n",
       " 'file_handeling.ipynb',\n",
       " 'list.txt',\n",
       " 'myfile.txt',\n",
       " 'name-city.csv',\n",
       " 'practice',\n",
       " 'python.ipynb',\n",
       " 'python2.ipynb',\n",
       " 'try-catch.ipynb']"
      ]
     },
     "execution_count": 3,
     "metadata": {},
     "output_type": "execute_result"
    }
   ],
   "source": [
    "import os\n",
    "\n",
    "os.rmdir(\"alhai\")\n",
    "os.listdir()"
   ]
  },
  {
   "cell_type": "code",
   "execution_count": null,
   "metadata": {},
   "outputs": [],
   "source": []
  },
  {
   "cell_type": "code",
   "execution_count": 3,
   "metadata": {},
   "outputs": [
    {
     "name": "stdout",
     "output_type": "stream",
     "text": [
      "The file descriptor for file.txt is 74\n"
     ]
    }
   ],
   "source": [
    "# import socket\n",
    "\n",
    "f_name = \"file.txt\"\n",
    "fileObject = open(f_name, \"r\")\n",
    "\n",
    "print(\"The file descriptor for %s is %s\" % (f_name, fileObject.fileno()))\n",
    "\n",
    "# sock = socket.socket(socket.AF_INET, socket.SOCK_STREAM)\n",
    "# print(\"The file descriptor for TCP socket is %s\" % (sock.fileno()))"
   ]
  }
 ],
 "metadata": {
  "kernelspec": {
   "display_name": "Python 3",
   "language": "python",
   "name": "python3"
  },
  "language_info": {
   "codemirror_mode": {
    "name": "ipython",
    "version": 3
   },
   "file_extension": ".py",
   "mimetype": "text/x-python",
   "name": "python",
   "nbconvert_exporter": "python",
   "pygments_lexer": "ipython3",
   "version": "3.9.11"
  },
  "orig_nbformat": 4,
  "vscode": {
   "interpreter": {
    "hash": "aee8b7b246df8f9039afb4144a1f6fd8d2ca17a180786b69acc140d282b71a49"
   }
  }
 },
 "nbformat": 4,
 "nbformat_minor": 2
}

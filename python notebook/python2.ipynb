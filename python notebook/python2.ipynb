{
 "cells": [
  {
   "cell_type": "code",
   "execution_count": 3,
   "id": "5334a24a",
   "metadata": {},
   "outputs": [
    {
     "name": "stdout",
     "output_type": "stream",
     "text": [
      "('Fatima', 3.4, 78, 'Sharjah')\n"
     ]
    }
   ],
   "source": [
    "tup = ('Fatima', 3.4, 78, 'Sharjah')\n",
    "print(tup)"
   ]
  },
  {
   "cell_type": "code",
   "execution_count": 4,
   "id": "35965c66",
   "metadata": {},
   "outputs": [
    {
     "name": "stdout",
     "output_type": "stream",
     "text": [
      "(4, 8, 9, ['Ali', 2.3])\n"
     ]
    }
   ],
   "source": [
    "tup2 = (4,8,9,['Ali',2.3])\n",
    "print(tup2)"
   ]
  },
  {
   "cell_type": "code",
   "execution_count": 5,
   "id": "88b515b6",
   "metadata": {
    "scrolled": true
   },
   "outputs": [
    {
     "name": "stdout",
     "output_type": "stream",
     "text": [
      "4\n",
      "['Ali', 2.3]\n",
      "['Ali', 2.3]\n",
      "4\n"
     ]
    }
   ],
   "source": [
    "tup2 = (4,8,9,['Ali',2.3])\n",
    "print(tup2[0])\n",
    "print(tup2[-1])\n",
    "print(tup2[3])\n",
    "print(tup2[-4])"
   ]
  },
  {
   "cell_type": "code",
   "execution_count": 6,
   "id": "8de370be",
   "metadata": {
    "scrolled": true
   },
   "outputs": [
    {
     "name": "stdout",
     "output_type": "stream",
     "text": [
      "(4, 8)\n",
      "(8, 9)\n",
      "(['Ali', 2.3],)\n",
      "(4, 9)\n"
     ]
    }
   ],
   "source": [
    "tup2 = (4,8,9,['Ali',2.3])\n",
    "print(tup2[0:2])\n",
    "print(tup2[-3:-1])\n",
    "print(tup2[3:4])\n",
    "print(tup2[0:3:2])"
   ]
  },
  {
   "cell_type": "code",
   "execution_count": 7,
   "id": "4d23c6fa",
   "metadata": {},
   "outputs": [
    {
     "ename": "TypeError",
     "evalue": "'tuple' object does not support item assignment",
     "output_type": "error",
     "traceback": [
      "\u001b[0;31m---------------------------------------------------------------------------\u001b[0m",
      "\u001b[0;31mTypeError\u001b[0m                                 Traceback (most recent call last)",
      "Cell \u001b[0;32mIn[7], line 2\u001b[0m\n\u001b[1;32m      1\u001b[0m tup \u001b[38;5;241m=\u001b[39m \u001b[38;5;241m4\u001b[39m,\u001b[38;5;241m8\u001b[39m,\u001b[38;5;241m9\u001b[39m,[\u001b[38;5;124m\"\u001b[39m\u001b[38;5;124mAli\u001b[39m\u001b[38;5;124m\"\u001b[39m,\u001b[38;5;241m2.3\u001b[39m]\n\u001b[0;32m----> 2\u001b[0m tup[\u001b[38;5;241m0\u001b[39m] \u001b[38;5;241m=\u001b[39m \u001b[38;5;241m18\u001b[39m\n\u001b[1;32m      3\u001b[0m tup[\u001b[38;5;241m2\u001b[39m] \u001b[38;5;241m=\u001b[39m \u001b[38;5;241m29\u001b[39m\n",
      "\u001b[0;31mTypeError\u001b[0m: 'tuple' object does not support item assignment"
     ]
    }
   ],
   "source": [
    "tup = 4,8,9,[\"Ali\",2.3]\n",
    "tup[0] = 18\n",
    "tup[2] = 29"
   ]
  },
  {
   "cell_type": "code",
   "execution_count": 8,
   "id": "f1582357",
   "metadata": {},
   "outputs": [
    {
     "name": "stdout",
     "output_type": "stream",
     "text": [
      "this is the orginal tuple:  (4, 8, 9, 7, 2)\n",
      "this is the sorted tuple [2, 4, 7, 8, 9]\n"
     ]
    }
   ],
   "source": [
    "tup = 4,8,9,7,2\n",
    "tup2 = sorted(tup)\n",
    "print(\"this is the orginal tuple: \",tup)\n",
    "print(\"this is the sorted tuple\",tup2)"
   ]
  },
  {
   "cell_type": "code",
   "execution_count": 10,
   "id": "63f69bda",
   "metadata": {},
   "outputs": [
    {
     "name": "stdout",
     "output_type": "stream",
     "text": [
      "this is the orginal tuple:  (4, 8, 9, 7, 2)\n",
      "this is the sorted tuple (2, 4, 7, 8, 9)\n",
      "5\n"
     ]
    }
   ],
   "source": [
    "tup = 4,8,9,7,2\n",
    "tup2 = tuple(sorted(tup))\n",
    "print(\"this is the orginal tuple: \",tup)\n",
    "print(\"this is the sorted tuple\",tup2)\n",
    "print(len(tup2))"
   ]
  },
  {
   "cell_type": "code",
   "execution_count": 16,
   "id": "f8a5b0fb",
   "metadata": {
    "scrolled": true
   },
   "outputs": [
    {
     "name": "stdout",
     "output_type": "stream",
     "text": [
      "this is a tuple:  (4, 8, 9, 'shrjah', 'Dubai')\n"
     ]
    }
   ],
   "source": [
    "tup1 = 4,8,9\n",
    "tup2 = \"shrjah\", \"Dubai\"\n",
    "tup = tup1 + tup2\n",
    "print(\"this is a tuple: \",tup)\n"
   ]
  },
  {
   "cell_type": "code",
   "execution_count": 12,
   "id": "26ceaf5d",
   "metadata": {},
   "outputs": [
    {
     "name": "stdout",
     "output_type": "stream",
     "text": [
      "(4, 8, 9, 4, 8, 9, 4, 8, 9)\n"
     ]
    }
   ],
   "source": [
    "tup1 = 4,8,9\n",
    "print(tup1 *3)"
   ]
  },
  {
   "cell_type": "code",
   "execution_count": 13,
   "id": "3af95c3c",
   "metadata": {},
   "outputs": [
    {
     "name": "stdout",
     "output_type": "stream",
     "text": [
      "True\n",
      "False\n"
     ]
    }
   ],
   "source": [
    "tup1 = 4,8,9\n",
    "print(8 in tup1)\n",
    "print(3 in tup1)"
   ]
  },
  {
   "cell_type": "code",
   "execution_count": 15,
   "id": "8884d71b",
   "metadata": {},
   "outputs": [
    {
     "name": "stdout",
     "output_type": "stream",
     "text": [
      "9\n",
      "4\n"
     ]
    }
   ],
   "source": [
    "tup1 = 4,8,9\n",
    "print(max(tup1))\n",
    "print(min(tup1))"
   ]
  },
  {
   "cell_type": "code",
   "execution_count": 17,
   "id": "4e4385f0",
   "metadata": {},
   "outputs": [
    {
     "data": {
      "text/plain": [
       "80"
      ]
     },
     "metadata": {},
     "output_type": "display_data"
    },
    {
     "data": {
      "text/plain": [
       "95"
      ]
     },
     "metadata": {},
     "output_type": "display_data"
    },
    {
     "data": {
      "text/plain": [
       "90"
      ]
     },
     "metadata": {},
     "output_type": "display_data"
    }
   ],
   "source": [
    "student_marks = {\"Alya\" : 80, \"Fatima\" : 95, \"Noora\" : 90}\n",
    "display(student_marks[\"Alya\"])\n",
    "display(student_marks[\"Fatima\"])\n",
    "display(student_marks[\"Noora\"])"
   ]
  },
  {
   "cell_type": "code",
   "execution_count": 19,
   "id": "4113039f",
   "metadata": {},
   "outputs": [
    {
     "data": {
      "text/plain": [
       "{}"
      ]
     },
     "metadata": {},
     "output_type": "display_data"
    },
    {
     "data": {
      "text/plain": [
       "{'Alya': 80, 'Fatima': 95, 'Noora': 90}"
      ]
     },
     "metadata": {},
     "output_type": "display_data"
    }
   ],
   "source": [
    "diction1 = {}\n",
    "diction2 = {\"Alya\" : 80, \"Fatima\" : 95, \"Noora\" : 90}\n",
    "display(diction1)\n",
    "display(diction2)"
   ]
  },
  {
   "cell_type": "code",
   "execution_count": 24,
   "id": "87352f7f",
   "metadata": {},
   "outputs": [
    {
     "name": "stdout",
     "output_type": "stream",
     "text": [
      "List of items: [('Alya', 80), ('Fatima', 95), ('Noora', 90)]\n",
      "List of keys: ['Alya', 'Fatima', 'Noora']\n",
      "List of values: [80, 95, 90]\n"
     ]
    }
   ],
   "source": [
    "student_marks = {\"Alya\" : 80, \"Fatima\" : 95, \"Noora\" : 90}\n",
    "\n",
    "print(\"List of items:\", list(student_marks.items()))\n",
    "print(\"List of keys:\", list(student_marks.keys()))\n",
    "print(\"List of values:\", list(student_marks.values()))"
   ]
  },
  {
   "cell_type": "code",
   "execution_count": 25,
   "id": "afd5e761",
   "metadata": {},
   "outputs": [
    {
     "name": "stdout",
     "output_type": "stream",
     "text": [
      "True\n",
      "True\n",
      "True\n",
      "False\n"
     ]
    }
   ],
   "source": [
    "students = {\"Alya\" : 80, \"Fatima\" : 95, \"Noora\" : 90}\n",
    "\n",
    "print( \"Alya\" in students)\n",
    "print( \"Fatima\" in students)\n",
    "print( \"Noora\" in students)\n",
    "print( \"Sara\" in students)"
   ]
  },
  {
   "cell_type": "code",
   "execution_count": 26,
   "id": "dcedd1b8",
   "metadata": {},
   "outputs": [
    {
     "name": "stdout",
     "output_type": "stream",
     "text": [
      "80 95 90\n"
     ]
    }
   ],
   "source": [
    "students = {\"Alya\" : 80, \"Fatima\" : 95, \"Noora\" : 90}\n",
    "std1 = students.get(\"Alya\")\n",
    "std2 = students.get(\"Fatima\")\n",
    "std3 = students.get(\"Noora\")\n",
    "print(std1, std2, std3)"
   ]
  },
  {
   "cell_type": "code",
   "execution_count": 31,
   "id": "686676f8",
   "metadata": {},
   "outputs": [
    {
     "name": "stdout",
     "output_type": "stream",
     "text": [
      "{'Alya': 80, 'Fatima': 95, 'Noora': 90} 3\n",
      "{'Alya': 85, 'Fatima': 95, 'Noora': 90} 3\n",
      "{'Alya': 85, 'Fatima': 95, 'Noora': 90, 'Noura': 75} 4\n"
     ]
    }
   ],
   "source": [
    "students = {\"Alya\" : 80, \"Fatima\" : 95, \"Noora\" : 90}\n",
    "print(students, len(students))\n",
    "students[\"Alya\"] = 85\n",
    "print(students, len(students))\n",
    "students[\"Noura\"] = 75\n",
    "print(students, len(students))"
   ]
  },
  {
   "cell_type": "code",
   "execution_count": 34,
   "id": "7e5a437c",
   "metadata": {},
   "outputs": [
    {
     "name": "stdout",
     "output_type": "stream",
     "text": [
      "{'Alya': 80, 'Fatima': 95, 'Noora': 90} 3\n",
      "{'Alya': 67, 'Fatima': 95, 'Noora': 90} 3\n",
      "{'Alya': 67, 'Fatima': 95, 'Noora': 90, 'Sara': 82} 4\n"
     ]
    }
   ],
   "source": [
    "students = {\"Alya\" : 80, \"Fatima\" : 95, \"Noora\" : 90}\n",
    "print(students, len(students))\n",
    "students.update({\"Alya\":67})\n",
    "print(students, len(students))\n",
    "students.update({\"Sara\":82})\n",
    "print(students, len(students))"
   ]
  },
  {
   "cell_type": "code",
   "execution_count": 35,
   "id": "51a6ae95",
   "metadata": {},
   "outputs": [
    {
     "name": "stdout",
     "output_type": "stream",
     "text": [
      "[6, 2, 8] <class 'list'>\n",
      "[3.2, 5.4, 2.0] <class 'list'>\n",
      "['Ali', 'Mohemmed', 'Sualeh'] <class 'list'>\n",
      "[2.5, 2, 'UAE'] <class 'list'>\n",
      "[2.5, 3, 'Sharjah', [3, 5, 6]] <class 'list'>\n"
     ]
    }
   ],
   "source": [
    "alist = [6,2,8]\n",
    "blist = [3.2, 5.4, 2.0]\n",
    "clist = [\"Ali\",\"Mohemmed\",\"Sualeh\"]\n",
    "dlist = [2.5, 2, \"UAE\"]\n",
    "elist = [2.5, 3, \"Sharjah\", [3,5,6]]\n",
    "print(alist, type(alist))\n",
    "print(blist, type(blist))\n",
    "print(clist, type(clist))\n",
    "print(dlist, type(dlist))\n",
    "print(elist, type(elist))"
   ]
  },
  {
   "cell_type": "code",
   "execution_count": 36,
   "id": "995ed0b2",
   "metadata": {},
   "outputs": [
    {
     "name": "stdout",
     "output_type": "stream",
     "text": [
      "23\n",
      "Ali\n",
      "z\n",
      "3.14\n",
      "[8, 3, 2.3]\n",
      "12\n"
     ]
    },
    {
     "ename": "IndexError",
     "evalue": "list index out of range",
     "output_type": "error",
     "traceback": [
      "\u001b[0;31m---------------------------------------------------------------------------\u001b[0m",
      "\u001b[0;31mIndexError\u001b[0m                                Traceback (most recent call last)",
      "Cell \u001b[0;32mIn[36], line 8\u001b[0m\n\u001b[1;32m      6\u001b[0m \u001b[38;5;28mprint\u001b[39m(mylist[\u001b[38;5;241m7\u001b[39m])\n\u001b[1;32m      7\u001b[0m \u001b[38;5;28mprint\u001b[39m(mylist[\u001b[38;5;241m8\u001b[39m])\n\u001b[0;32m----> 8\u001b[0m \u001b[38;5;28mprint\u001b[39m(\u001b[43mmylist\u001b[49m\u001b[43m[\u001b[49m\u001b[38;5;241;43m9\u001b[39;49m\u001b[43m]\u001b[49m)\n",
      "\u001b[0;31mIndexError\u001b[0m: list index out of range"
     ]
    }
   ],
   "source": [
    "mylist = [23, 7.5, \"Ali\", [3,5], 'z', 56, 3.14, [8,3,2.3], 12]\n",
    "print(mylist[0])\n",
    "print(mylist[2])\n",
    "print(mylist[4])\n",
    "print(mylist[6])\n",
    "print(mylist[7])\n",
    "print(mylist[8])\n",
    "print(mylist[9])"
   ]
  },
  {
   "cell_type": "code",
   "execution_count": 37,
   "id": "1b97585f",
   "metadata": {},
   "outputs": [
    {
     "name": "stdout",
     "output_type": "stream",
     "text": [
      "[23, 7.5, 'Ali', [3, 5]]\n",
      "[23, 7.5, 'Ali', [3, 5], 'z']\n",
      "['z', 56, 3.14, [8, 3, 2.3], 12]\n",
      "[3.14, [8, 3, 2.3], 12]\n",
      "[[8, 3, 2.3], 12]\n",
      "Negative\n",
      "[3.14, [8, 3, 2.3]]\n",
      "[3.14, [8, 3, 2.3], 12]\n",
      "['Ali', [3, 5], 'z', 56]\n",
      "[23, 7.5, 'Ali', [3, 5], 'z']\n",
      "[23, 7.5, 'Ali']\n",
      "[23, 7.5]\n",
      "[]\n"
     ]
    }
   ],
   "source": [
    "mylist = [23, 7.5, \"Ali\", [3,5], 'z', 56, 3.14, [8,3,2.3], 12]\n",
    "print(mylist[0:4])\n",
    "print(mylist[:5])\n",
    "print(mylist[4:9])\n",
    "print(mylist[6:])\n",
    "print(mylist[7:100])\n",
    "print(\"Negative\")\n",
    "print(mylist[-3:-1])\n",
    "print(mylist[-3:])\n",
    "print(mylist[-7:-3])\n",
    "print(mylist[-9:-4])\n",
    "print(mylist[:-6])\n",
    "print(mylist[-100:-7])\n",
    "print(mylist[-3:-8])"
   ]
  },
  {
   "cell_type": "code",
   "execution_count": 38,
   "id": "babb4465",
   "metadata": {},
   "outputs": [
    {
     "name": "stdout",
     "output_type": "stream",
     "text": [
      "['Fatima', 7.5, 'Ali', [3, 5], 'z']\n",
      "['Fatima', 7.5, 'Ali', [3, 5], 4.3]\n",
      "['Fatima', 7.5, 8.5, [3, 5], 4.3]\n",
      "['Fatima', [8.5, [3, 5]], 8.5, [3, 5], 4.3]\n"
     ]
    }
   ],
   "source": [
    "mylist = [23, 7.5, \"Ali\",[3,5], 'z']\n",
    "mylist[0] = \"Fatima\"\n",
    "print(mylist)\n",
    "mylist[4] = 4.3\n",
    "print(mylist)\n",
    "mylist[2] = mylist[1] + 1\n",
    "print(mylist)\n",
    "mylist[1] = mylist[2:4]\n",
    "print(mylist)"
   ]
  },
  {
   "cell_type": "code",
   "execution_count": 39,
   "id": "6eef18a2",
   "metadata": {},
   "outputs": [
    {
     "name": "stdout",
     "output_type": "stream",
     "text": [
      "[6, 5, 8]\n",
      "[6, 5, 8, 2]\n",
      "[6, 5, 8, 2, 6, 5]\n",
      "[6, 5, 8, 2, 6, 5, [12, 13]]\n",
      "[6, 5, 8, 7.5, 2, 6, 5, [12, 13]]\n",
      "[[3, 4], 6, 5, 8, 7.5, 2, 6, 5, [12, 13]]\n",
      "[[3, 4], 6, 8, 7.5, 2, 6, 5, [12, 13]]\n",
      "[[3, 4], 8, 7.5, 2, 6, 5, [12, 13]]\n"
     ]
    }
   ],
   "source": [
    "mylist = [6,5]\n",
    "mylist.append(8)\n",
    "print(mylist)\n",
    "mylist.append(2)\n",
    "print(mylist)\n",
    "mylist.extend([6,5])\n",
    "print(mylist)\n",
    "mylist.append([12,13])\n",
    "print(mylist)\n",
    "mylist.insert(3,7.5)\n",
    "print(mylist)\n",
    "mylist.insert(0,[3,4])\n",
    "print(mylist)\n",
    "mylist.remove(5)\n",
    "print(mylist)\n",
    "mylist.remove(6)\n",
    "print(mylist)"
   ]
  },
  {
   "cell_type": "code",
   "execution_count": 41,
   "id": "250804a9",
   "metadata": {},
   "outputs": [
    {
     "name": "stdout",
     "output_type": "stream",
     "text": [
      "[3, 8, 9, 2, 6]\n",
      "[6, 2, 9, 8, 3]\n",
      "[3, 8, 9, 2, 6]\n"
     ]
    }
   ],
   "source": [
    "alist = [6,2,9,8,3]\n",
    "alist.reverse()\n",
    "print(alist)\n",
    "alist = [6,2,9,8,3]\n",
    "blist = list(reversed(alist))\n",
    "print(alist)\n",
    "print(blist)"
   ]
  },
  {
   "cell_type": "code",
   "execution_count": 42,
   "id": "64762c96",
   "metadata": {},
   "outputs": [
    {
     "name": "stdout",
     "output_type": "stream",
     "text": [
      "[2, 3, 6, 8, 9]\n",
      "[6, 2, 9, 8, 3]\n",
      "[2, 3, 6, 8, 9]\n",
      "[9, 8, 6, 3, 2]\n"
     ]
    }
   ],
   "source": [
    "alist = [6,2,9,8,3]\n",
    "alist.sort()\n",
    "print(alist)\n",
    "alist = [6,2,9,8,3]\n",
    "blist = sorted(alist)\n",
    "print(alist)\n",
    "print(blist)\n",
    "alist.sort(reverse = True)\n",
    "print(alist)"
   ]
  },
  {
   "cell_type": "code",
   "execution_count": 44,
   "id": "16c36f3f",
   "metadata": {},
   "outputs": [
    {
     "name": "stdout",
     "output_type": "stream",
     "text": [
      "True\n",
      "False\n",
      "True\n",
      "True\n",
      "False\n"
     ]
    }
   ],
   "source": [
    "mylist = [23, 7.5, \"Ali\", [3,5], 'z', 56, 3.14, [8,3,2.3], 12]\n",
    "print(7.5 in mylist)\n",
    "result = 3.1415 in mylist\n",
    "print(result)\n",
    "print(56.0 in mylist)\n",
    "print([3,5] in mylist)\n",
    "print([8,2.3,3] in mylist)"
   ]
  },
  {
   "cell_type": "code",
   "execution_count": 45,
   "id": "5e89e77c",
   "metadata": {},
   "outputs": [
    {
     "name": "stdout",
     "output_type": "stream",
     "text": [
      "[] 0\n",
      "[3] 1\n",
      "[3, 31] 2\n",
      "[3, 31, 9] 3\n"
     ]
    }
   ],
   "source": [
    "mylist = []\n",
    "print(mylist, len(mylist))\n",
    "mylist.append(3)\n",
    "print(mylist, len(mylist))\n",
    "mylist.append(31)\n",
    "print(mylist, len(mylist))\n",
    "mylist.append(9)\n",
    "print(mylist, len(mylist))"
   ]
  },
  {
   "cell_type": "code",
   "execution_count": 46,
   "id": "766ad414",
   "metadata": {},
   "outputs": [
    {
     "name": "stdout",
     "output_type": "stream",
     "text": [
      "[] 0\n",
      "[6] 1\n",
      "[6, 9] 2\n",
      "[6, 9, 3, 10] 4\n"
     ]
    }
   ],
   "source": [
    "mylist = []\n",
    "print(mylist, len(mylist))\n",
    "mylist += [6]\n",
    "print(mylist, len(mylist))\n",
    "mylist += [9]\n",
    "print(mylist, len(mylist))\n",
    "mylist += [3,10]\n",
    "print(mylist, len(mylist))"
   ]
  },
  {
   "cell_type": "code",
   "execution_count": 47,
   "id": "559979fc",
   "metadata": {},
   "outputs": [
    {
     "name": "stdout",
     "output_type": "stream",
     "text": [
      "['Ali', 'Faisal', 'Ahmed']\n",
      "['Ali', 'Faisal', 'Ahmed', 'Noora']\n",
      "['6', '5', '2', '3']\n"
     ]
    }
   ],
   "source": [
    "students = \"Ali Faisal Ahmed\".split()\n",
    "print(students)\n",
    "students.append(\"Noora\")\n",
    "print(students)\n",
    "marks = \"6 5 2 3\".split()\n",
    "print(marks)"
   ]
  },
  {
   "cell_type": "code",
   "execution_count": 48,
   "id": "f1058323",
   "metadata": {},
   "outputs": [
    {
     "name": "stdout",
     "output_type": "stream",
     "text": [
      "[0, 0, 0] 3\n",
      "[0, 0, 0, [3, 2]] 4\n",
      "[0, 0, 0, [3, 2], 0, 0, 0, [3, 2]] 8\n"
     ]
    }
   ],
   "source": [
    "mylist  = [0] * 3\n",
    "print(mylist, len(mylist))\n",
    "mylist.append([3,2])\n",
    "print(mylist, len(mylist))\n",
    "mylist = mylist *2\n",
    "print(mylist, len(mylist))"
   ]
  },
  {
   "cell_type": "code",
   "execution_count": 50,
   "id": "e8ce1158",
   "metadata": {},
   "outputs": [
    {
     "name": "stdout",
     "output_type": "stream",
     "text": [
      "Enter your first number: 12\n",
      "Enter your second number: 21\n",
      "33\n"
     ]
    }
   ],
   "source": [
    "def sum(num1, num2):\n",
    "    return num1+num2\n",
    "num1 = int(input(\"Enter your first number: \"))\n",
    "num2 = int(input(\"Enter your second number: \"))\n",
    "\n",
    "print(sum(num1,num2))"
   ]
  },
  {
   "cell_type": "code",
   "execution_count": 53,
   "id": "5c76eb5d",
   "metadata": {},
   "outputs": [
    {
     "name": "stdout",
     "output_type": "stream",
     "text": [
      "Enter the first number: 2\n",
      "Enter the second number: 6\n",
      "Average of numbers between 2 and 6 is: 4.0\n"
     ]
    }
   ],
   "source": [
    "def average_between_numbers(num1, num2):\n",
    "    if num1 > num2:\n",
    "        num1, num2 = num2, num1  # Swap if num1 is greater\n",
    "\n",
    "    total_sum = 0\n",
    "    count = 0\n",
    "\n",
    "    for num in range(num1, num2 + 1):\n",
    "        total_sum += num\n",
    "        count += 1\n",
    "\n",
    "    if count == 0:\n",
    "        return 0  # To avoid division by zero if no numbers between num1 and num2\n",
    "\n",
    "    average = total_sum / count\n",
    "    return average\n",
    "\n",
    "# Taking user input for two numbers\n",
    "num1 = int(input(\"Enter the first number: \"))\n",
    "num2 = int(input(\"Enter the second number: \"))\n",
    "\n",
    "result = average_between_numbers(num1, num2)\n",
    "print(\"Average of numbers between {} and {} is: {}\".format(num1, num2, result))\n"
   ]
  },
  {
   "cell_type": "code",
   "execution_count": 54,
   "id": "4a9c2c79",
   "metadata": {},
   "outputs": [
    {
     "name": "stdout",
     "output_type": "stream",
     "text": [
      "15\n"
     ]
    }
   ],
   "source": [
    "x = lambda a : a + 10\n",
    "print(x(5))"
   ]
  },
  {
   "cell_type": "code",
   "execution_count": 55,
   "id": "674b5b6d",
   "metadata": {},
   "outputs": [
    {
     "name": "stdout",
     "output_type": "stream",
     "text": [
      "19\n"
     ]
    }
   ],
   "source": [
    "b = lambda a,b,c : a + b**c\n",
    "print(b(10,3,2))"
   ]
  },
  {
   "cell_type": "code",
   "execution_count": null,
   "id": "6b9ed988",
   "metadata": {},
   "outputs": [],
   "source": []
  }
 ],
 "metadata": {
  "kernelspec": {
   "display_name": "Python 3 (ipykernel)",
   "language": "python",
   "name": "python3"
  },
  "language_info": {
   "codemirror_mode": {
    "name": "ipython",
    "version": 3
   },
   "file_extension": ".py",
   "mimetype": "text/x-python",
   "name": "python",
   "nbconvert_exporter": "python",
   "pygments_lexer": "ipython3",
   "version": "3.10.9"
  }
 },
 "nbformat": 4,
 "nbformat_minor": 5
}

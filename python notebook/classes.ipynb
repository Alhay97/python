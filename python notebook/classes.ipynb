{
 "cells": [
  {
   "cell_type": "code",
   "execution_count": 1,
   "metadata": {},
   "outputs": [
    {
     "name": "stdout",
     "output_type": "stream",
     "text": [
      "I can eat\n",
      "I can sleep\n",
      "Woof Woof\n"
     ]
    }
   ],
   "source": [
    "class animal:\n",
    "\tdef eat(self):\n",
    "\t\tprint(\"I can eat\")\n",
    "\t\n",
    "\tdef sleep(self):\n",
    "\t\tprint(\"I can sleep\")\n",
    "\n",
    "class Dog(animal):\n",
    "\tdef bark(self):\n",
    "\t\tprint(\"Woof Woof\")\n",
    "\n",
    "\n",
    "dog1 = Dog()\n",
    "\n",
    "dog1.eat()\n",
    "dog1.sleep()\n",
    "dog1.bark()"
   ]
  },
  {
   "cell_type": "code",
   "execution_count": null,
   "metadata": {},
   "outputs": [],
   "source": []
  }
 ],
 "metadata": {
  "kernelspec": {
   "display_name": "Python 3",
   "language": "python",
   "name": "python3"
  },
  "language_info": {
   "codemirror_mode": {
    "name": "ipython",
    "version": 3
   },
   "file_extension": ".py",
   "mimetype": "text/x-python",
   "name": "python",
   "nbconvert_exporter": "python",
   "pygments_lexer": "ipython3",
   "version": "3.9.11"
  },
  "orig_nbformat": 4,
  "vscode": {
   "interpreter": {
    "hash": "aee8b7b246df8f9039afb4144a1f6fd8d2ca17a180786b69acc140d282b71a49"
   }
  }
 },
 "nbformat": 4,
 "nbformat_minor": 2
}

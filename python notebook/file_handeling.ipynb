{
 "cells": [
  {
   "cell_type": "code",
   "execution_count": 47,
   "metadata": {},
   "outputs": [
    {
     "name": "stdout",
     "output_type": "stream",
     "text": [
      "wfuzz\n",
      "test\n",
      "robots\n",
      "about\n",
      "test1\n",
      "test2\n",
      "admin\n",
      "Admin\n",
      "password\n"
     ]
    }
   ],
   "source": [
    "#this code is to read every content from the txt file\n",
    "obj = open(\"dictionary.txt\" ,'r' , 4)\n",
    "for i in obj:\n",
    "    print(i.strip())\n",
    "obj.close()"
   ]
  },
  {
   "cell_type": "code",
   "execution_count": 48,
   "id": "65b3bd01",
   "metadata": {},
   "outputs": [
    {
     "name": "stdout",
     "output_type": "stream",
     "text": [
      "wfuzz\n",
      "\n",
      "test\n",
      "\n",
      "robots\n",
      "\n"
     ]
    }
   ],
   "source": [
    "#this code is to read each line for the txt file\n",
    "f = open(\"dictionary.txt\", 'r')\n",
    "print(f.readline())\n",
    "print(f.readline())\n",
    "print(f.readline())"
   ]
  },
  {
   "cell_type": "code",
   "execution_count": 50,
   "id": "56a5835c",
   "metadata": {},
   "outputs": [],
   "source": [
    "#the write function will be used overwriting content to  becuse in the open() we used \"w\"\n",
    "fileW = open(\"dictionary.txt\", \"w\")\n",
    "fileW.write(\"this is the list to test everything for next worksheet \\n test it will and goodluck\")\n",
    "fileW.close()"
   ]
  },
  {
   "cell_type": "code",
   "execution_count": 52,
   "id": "e858d40e",
   "metadata": {},
   "outputs": [],
   "source": [
    "#the write function will be append or to content to the end of the file becuse in the open() we used \"a\"\n",
    "fileW = open(\"dictionary.txt\", \"a\")\n",
    "fileW.write(\"\\nthis is the list to test everything for next worksheet \\ntest it will and goodluck\")\n",
    "fileW.close()"
   ]
  },
  {
   "cell_type": "code",
   "execution_count": 60,
   "id": "978f3b36",
   "metadata": {},
   "outputs": [
    {
     "name": "stdout",
     "output_type": "stream",
     "text": [
      "apple\n",
      "banana\n",
      "cherry\n",
      "date\n",
      "elderberry\n"
     ]
    }
   ],
   "source": [
    "# alist = [\"alhai\", \"in 42\", 2.6, 3.14]\n",
    "\n",
    "# wo = open(\"list.txt\",'r')\n",
    "# for i in alist:\n",
    "#     wo.write(\"{}\\n\".format(i))\n",
    "    \n",
    "# for b in wo:\n",
    "#     print(b.strip())\n",
    "# wo.close()\n",
    "\n",
    "alist = [\"apple\", \"banana\", \"cherry\", \"date\", \"elderberry\"]\n",
    "\n",
    "# Open the file in write mode\n",
    "with open(\"list.txt\", 'w') as wo:\n",
    "    for i in alist:\n",
    "        wo.write(\"{}\\n\".format(i))\n",
    "\n",
    "# Open the file again in read mode to print its content\n",
    "with open(\"list.txt\", 'r') as wo:\n",
    "    for b in wo:\n",
    "        print(b.strip())"
   ]
  },
  {
   "cell_type": "code",
   "execution_count": 61,
   "id": "467783b6",
   "metadata": {},
   "outputs": [
    {
     "name": "stdout",
     "output_type": "stream",
     "text": [
      "/Users/alhayalhamely/Desktop/python\n"
     ]
    }
   ],
   "source": [
    "#prints the current directory path\n",
    "import os\n",
    "print(os.getcwd())"
   ]
  },
  {
   "cell_type": "code",
   "execution_count": 63,
   "id": "a0cad7ff",
   "metadata": {},
   "outputs": [
    {
     "name": "stdout",
     "output_type": "stream",
     "text": [
      "['Screenshot 2023-08-09 at 4.14.11 PM.png', 'aalhamel_BitOasis.docx', 'greeb.docx', 'Screenshot 2023-08-09 at 3.48.19 PM.png', 'Screenshot 2023-08-12 at 4.17.10 PM.png', 'Screenshot 2023-08-12 at 6.28.39 PM.png', 'Screenshot 2023-08-12 at 5.36.28 PM.png', 'OneDrive_1_5-30-2023.zip', 'Screenshot 2023-08-09 at 2.32.05 PM.png', 'Computer Forensics Review Questions.docx.pdf', 'Screenshot 2023-08-12 at 6.14.59 PM.png', 'Screenshot 2023-07-12 at 9.23.28 PM.png', 'inception.zip', 'Screenshot 2023-08-12 at 5.39.44 PM.png', 'Screenshot 2023-08-12 at 6.18.20 PM.png', 'aalhamel', 'Screenshot 2023-08-09 at 2.17.16 PM.png', '.DS_Store', 'Screenshot 2023-08-09 at 4.09.49 PM.png', 'Screenshot 2023-08-12 at 4.20.29 PM.png', '7-12.docx', 'Archive', 'Screenshot 2023-08-12 at 6.30.40 PM.png', 'Inception', 'ADC_03 ICT _ Entrepreneurship _ Assignment 1 _Template (1).pdf', 'Screenshot 2023-08-09 at 3.50.48 PM.png', 'python', '.localized', 'Screenshot 2023-08-12 at 5.35.58 PM.png', 'Screenshot 2023-06-26 at 1.59.00 AM.png', 'classes', 'Screenshot 2023-07-07 at 6.42.56 PM.png', 'Screenshot 2023-08-12 at 4.23.34 PM.png', 'Screenshot 2023-08-09 at 3.46.18 PM.png', 'html practice', 'Screenshot 2023-08-12 at 4.17.16 PM.png', 'Screenshot 2023-08-09 at 2.24.26 PM.png', 'Screenshot 2023-08-12 at 5.42.29 PM.png', 'Screenshot 2023-08-09 at 2.24.49 PM.png', 'Screenshot 2023-08-12 at 6.27.20 PM.png', 'ADC_03 ICT _ Entrepreneurship _ Assignment 1 _Template.docx', 'Screenshot 2023-08-12 at 5.38.01 PM.png', 'prac05', 'addinfo.cpp', 'Computer Forensics Review Questions.docx (1).pdf', 'SumaiyaNooh_ADC03_1.pdf', '42', 'exam-05', 'ICT_ADC03_Business Proposal fixed.pdf', 'Hamda_IRC_SERV.zip', 'Week4-03 - Investigator Lab(1) (5).pptx', 'Screenshot 2023-08-12 at 6.22.39 PM.png', 'Screenshot 2023-08-09 at 4.23.14 PM.png', 'Screenshot 2023-08-12 at 4.16.00 PM.png', 'Screenshot 2023-08-12 at 5.44.37 PM.png', 'Screenshot 2023-08-09 at 3.49.28 PM.png', '~$lhamel_BitOasis.docx', 'Screenshot 2023-06-21 at 6.33.48 PM.png', 'Screenshot 2023-07-12 at 9.23.37 PM.png', 'Screenshot 2023-08-09 at 3.46.13 PM.png', 'notes for presentation.docx', 'Screenshot 2023-08-09 at 4.12.28 PM.png', '1-0_cpp_module01.trace', 'Screenshot 2023-08-09 at 4.15.51 PM.png', 'Screenshot 2023-06-20 at 12.17.28 PM.png', 'ft_container', 'Screenshot 2023-06-16 at 4.23.54 PM.png', 'Alhai_Alhameli.pdf', 'ADC_03 ICT _ Entrepreneurship _ Assignment 1 _Template.pdf', '42-EXAM', 'Screenshot 2023-06-21 at 6.33.29 PM.png', 'Screenshot 2023-08-12 at 6.21.03 PM.png', 'portfolio', 'Screenshot 2023-08-09 at 3.52.11 PM.png', 'ICT_ADC03_Business.pptx', 'Screenshot 2023-08-12 at 4.19.18 PM.png', 'ft_IRC (1).zip', 'Screenshot 2023-08-12 at 4.18.20 PM.png', 'reverse_iterator&   operator+=(difference_type n )', 'one-piece.png', 'Screenshot 2023-06-26 at 1.58.31 AM.png', 'Screenshot 2023-08-12 at 4.31.25 PM.png', 'Screenshot 2023-08-12 at 6.06.09 PM.png', 'Screenshot 2023-08-12 at 5.44.49 PM.png', 'Screenshot 2023-06-19 at 7.33.10 PM.png', '~$hics and Technology in education.docx', 'Screenshot 2023-08-09 at 3.52.15 PM.png', 'Screenshot 2023-08-12 at 6.47.38 PM.png', 'Archive.zip', 'Screenshot 2023-08-12 at 6.25.32 PM.png', 'Screenshot 2023-08-12 at 6.32.03 PM.png', 'Screenshot 2023-08-09 at 4.11.46 PM.png', 'Screenshot 2023-08-12 at 6.47.24 PM.png', 'Screenshot 2023-08-12 at 6.03.26 PM.png', 'Screenshot 2023-08-12 at 6.08.59 PM.png', 'Screenshot 2023-08-09 at 2.34.45 PM.png', 'Screenshot 2023-08-09 at 2.11.58 PM.png', 'Screenshot 2023-08-09 at 5.16.17 PM.png', '1-6.docx', 'Screenshot 2023-08-12 at 4.22.52 PM.png', 'incep', 'Week5-6 - 04 Data Acquisition (8).pptx']\n"
     ]
    }
   ],
   "source": [
    "print(os.listdir(\"../\"))"
   ]
  },
  {
   "cell_type": "code",
   "execution_count": 64,
   "id": "775ad554",
   "metadata": {},
   "outputs": [
    {
     "name": "stdout",
     "output_type": "stream",
     "text": [
      "['.DS_Store', 'python2.ipynb', 'list.txt', 'file_handeling.ipynb', 'dictionary.txt', 'alhai', 'myfile.txt', '.ipynb_checkpoints', 'python.ipynb', 'practice', 'name-city.csv']\n"
     ]
    }
   ],
   "source": [
    "os.mkdir('alhai')\n",
    "print(os.listdir())"
   ]
  },
  {
   "cell_type": "code",
   "execution_count": 65,
   "id": "482f211b",
   "metadata": {},
   "outputs": [
    {
     "data": {
      "text/plain": [
       "['.DS_Store',\n",
       " 'python2.ipynb',\n",
       " 'list.txt',\n",
       " 'file_handeling.ipynb',\n",
       " 'dictionary.txt',\n",
       " 'python21',\n",
       " 'myfile.txt',\n",
       " '.ipynb_checkpoints',\n",
       " 'python.ipynb',\n",
       " 'practice',\n",
       " 'name-city.csv']"
      ]
     },
     "execution_count": 65,
     "metadata": {},
     "output_type": "execute_result"
    }
   ],
   "source": [
    "os.rename('alhai', 'python21')\n",
    "os.listdir()"
   ]
  },
  {
   "cell_type": "code",
   "execution_count": 66,
   "id": "2c990675",
   "metadata": {},
   "outputs": [
    {
     "data": {
      "text/plain": [
       "['.DS_Store',\n",
       " 'python2.ipynb',\n",
       " 'list.txt',\n",
       " 'file_handeling.ipynb',\n",
       " 'dictionary.txt',\n",
       " 'myfile.txt',\n",
       " '.ipynb_checkpoints',\n",
       " 'python.ipynb',\n",
       " 'practice',\n",
       " 'name-city.csv']"
      ]
     },
     "execution_count": 66,
     "metadata": {},
     "output_type": "execute_result"
    }
   ],
   "source": [
    "os.rmdir('python21')\n",
    "os.listdir()"
   ]
  },
  {
   "cell_type": "code",
   "execution_count": 69,
   "id": "e153f32e",
   "metadata": {},
   "outputs": [
    {
     "data": {
      "text/plain": [
       "['.DS_Store',\n",
       " 'python2.ipynb',\n",
       " 'list.txt',\n",
       " 'file_handeling.ipynb',\n",
       " 'dictionary.txt',\n",
       " 'myfile.txt',\n",
       " '.ipynb_checkpoints',\n",
       " 'python.ipynb',\n",
       " 'practice',\n",
       " 'name-city.csv']"
      ]
     },
     "execution_count": 69,
     "metadata": {},
     "output_type": "execute_result"
    }
   ],
   "source": [
    "import shutil\n",
    "\n",
    "shutil.rmtree('alhai')\n",
    "os.listdir()"
   ]
  },
  {
   "cell_type": "code",
   "execution_count": 71,
   "id": "8855d0a2",
   "metadata": {},
   "outputs": [
    {
     "name": "stdout",
     "output_type": "stream",
     "text": [
      "['ArithmeticError', 'AssertionError', 'AttributeError', 'BaseException', 'BlockingIOError', 'BrokenPipeError', 'BufferError', 'BytesWarning', 'ChildProcessError', 'ConnectionAbortedError', 'ConnectionError', 'ConnectionRefusedError', 'ConnectionResetError', 'DeprecationWarning', 'EOFError', 'Ellipsis', 'EnvironmentError', 'Exception', 'False', 'FileExistsError', 'FileNotFoundError', 'FloatingPointError', 'FutureWarning', 'GeneratorExit', 'IOError', 'ImportError', 'ImportWarning', 'IndentationError', 'IndexError', 'InterruptedError', 'IsADirectoryError', 'KeyError', 'KeyboardInterrupt', 'LookupError', 'MemoryError', 'ModuleNotFoundError', 'NameError', 'None', 'NotADirectoryError', 'NotImplemented', 'NotImplementedError', 'OSError', 'OverflowError', 'PendingDeprecationWarning', 'PermissionError', 'ProcessLookupError', 'RecursionError', 'ReferenceError', 'ResourceWarning', 'RuntimeError', 'RuntimeWarning', 'StopAsyncIteration', 'StopIteration', 'SyntaxError', 'SyntaxWarning', 'SystemError', 'SystemExit', 'TabError', 'TimeoutError', 'True', 'TypeError', 'UnboundLocalError', 'UnicodeDecodeError', 'UnicodeEncodeError', 'UnicodeError', 'UnicodeTranslateError', 'UnicodeWarning', 'UserWarning', 'ValueError', 'Warning', 'ZeroDivisionError', '__IPYTHON__', '__build_class__', '__debug__', '__doc__', '__import__', '__loader__', '__name__', '__package__', '__spec__', 'abs', 'all', 'any', 'ascii', 'bin', 'bool', 'breakpoint', 'bytearray', 'bytes', 'callable', 'chr', 'classmethod', 'compile', 'complex', 'copyright', 'credits', 'delattr', 'dict', 'dir', 'display', 'divmod', 'enumerate', 'eval', 'exec', 'execfile', 'filter', 'float', 'format', 'frozenset', 'get_ipython', 'getattr', 'globals', 'hasattr', 'hash', 'help', 'hex', 'id', 'input', 'int', 'isinstance', 'issubclass', 'iter', 'len', 'license', 'list', 'locals', 'map', 'max', 'memoryview', 'min', 'next', 'object', 'oct', 'open', 'ord', 'pow', 'print', 'property', 'range', 'repr', 'reversed', 'round', 'runfile', 'set', 'setattr', 'slice', 'sorted', 'staticmethod', 'str', 'sum', 'super', 'tuple', 'type', 'vars', 'zip']\n"
     ]
    }
   ],
   "source": [
    "print(dir(locals()['__builtins__']))"
   ]
  },
  {
   "cell_type": "code",
   "execution_count": null,
   "id": "8594257e",
   "metadata": {},
   "outputs": [],
   "source": []
  }
 ],
 "metadata": {
  "kernelspec": {
   "display_name": "Python 3",
   "language": "python",
   "name": "python3"
  },
  "language_info": {
   "codemirror_mode": {
    "name": "ipython",
    "version": 3
   },
   "file_extension": ".py",
   "mimetype": "text/x-python",
   "name": "python",
   "nbconvert_exporter": "python",
   "pygments_lexer": "ipython3",
   "version": "3.9.6"
  }
 },
 "nbformat": 4,
 "nbformat_minor": 5
}

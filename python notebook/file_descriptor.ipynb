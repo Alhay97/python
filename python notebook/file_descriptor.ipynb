{
 "cells": [
  {
   "cell_type": "code",
   "execution_count": 2,
   "metadata": {},
   "outputs": [
    {
     "name": "stdout",
     "output_type": "stream",
     "text": [
      "the file descriptor for the file text.txt is 73\n"
     ]
    }
   ],
   "source": [
    "import os\n",
    "\n",
    "f = \"text.txt\" #file name\n",
    "file_object = open(f,\"r\") #open the file the \"read only\" attribute\n",
    "fd = file_object.fileno() # to show the file descriptor of the text.txt file\n",
    "print(\"the file descriptor for the file {} is {}\".format(f,fd))\n",
    "os.close(fd) # to close file after used"
   ]
  },
  {
   "cell_type": "code",
   "execution_count": 15,
   "metadata": {},
   "outputs": [
    {
     "name": "stdout",
     "output_type": "stream",
     "text": [
      "file.txt size in bytes is:  123\n",
      "alhai is going to 42\n",
      "file.txt size in bytes is:  20\n"
     ]
    }
   ],
   "source": [
    "import os\n",
    "\n",
    "\n",
    "fd = os.open(\"text.txt\", os.O_RDWR)\n",
    "\n",
    "print(\"file.txt size in bytes is: \", os.stat(fd).st_size)\n",
    "\n",
    "al = int(input(\"Enter the amount of buffer to read from the file: \"))\n",
    "\n",
    "os.ftruncate(fd, al)\n",
    "\n",
    "size = os.stat(fd).st_size\n",
    "print(os.read(fd, size).decode(\"utf-8\"))\n",
    "\n",
    "print(\"file.txt size in bytes is: \", os.stat(fd).st_size)"
   ]
  }
 ],
 "metadata": {
  "kernelspec": {
   "display_name": "Python 3",
   "language": "python",
   "name": "python3"
  },
  "language_info": {
   "codemirror_mode": {
    "name": "ipython",
    "version": 3
   },
   "file_extension": ".py",
   "mimetype": "text/x-python",
   "name": "python",
   "nbconvert_exporter": "python",
   "pygments_lexer": "ipython3",
   "version": "3.9.11"
  },
  "orig_nbformat": 4,
  "vscode": {
   "interpreter": {
    "hash": "aee8b7b246df8f9039afb4144a1f6fd8d2ca17a180786b69acc140d282b71a49"
   }
  }
 },
 "nbformat": 4,
 "nbformat_minor": 2
}

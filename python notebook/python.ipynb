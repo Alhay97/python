{
 "cells": [
  {
   "cell_type": "code",
   "execution_count": 1,
   "id": "b2a5f2a4",
   "metadata": {},
   "outputs": [
    {
     "name": "stdout",
     "output_type": "stream",
     "text": [
      "Enter your first name: alhai\n",
      "Enter you family name: alhamelu\n",
      "Enter your age: 25\n",
      "Hello alhai alhamelu\n",
      "you current age is 25 and next year you will be 26\n"
     ]
    }
   ],
   "source": [
    "first_name = input(\"Enter your first name: \")\n",
    "last_name = input(\"Enter you family name: \")\n",
    "age = int(input(\"Enter your age: \"))\n",
    "\n",
    "print(\"Hello {} {}\".format(first_name, last_name))\n",
    "print(\"you current age is {} and next year you will be {}\".format(age, age+1))"
   ]
  },
  {
   "cell_type": "code",
   "execution_count": 4,
   "id": "1c80bcac",
   "metadata": {},
   "outputs": [
    {
     "name": "stdout",
     "output_type": "stream",
     "text": [
      "Enter mark of quiz 1:100\n",
      "Enter mark of quiz 2:100\n",
      "Enter mark of quiz 3:100\n",
      "your total mark for all quizes is: 300\n"
     ]
    }
   ],
   "source": [
    "total = 0\n",
    "index = 0\n",
    "for i in range(3):\n",
    "    index += 1\n",
    "    i = int(input(\"Enter mark of quiz {}:\".format(index)))\n",
    "    total += i\n",
    "print(\"your total mark for all quizes is: {}\".format(total))\n",
    "    \n"
   ]
  },
  {
   "cell_type": "code",
   "execution_count": 6,
   "id": "98c37b39",
   "metadata": {},
   "outputs": [
    {
     "name": "stdout",
     "output_type": "stream",
     "text": [
      "Enter a raduius for a circle: 3.4\n",
      "Area of a circle is: 36.2984\n",
      "circumference of a circle is: 21.352\n"
     ]
    }
   ],
   "source": [
    "pi = 3.14\n",
    "\n",
    "def square(num):\n",
    "    return num*num\n",
    "\n",
    "def areaCirc(num):\n",
    "    return pi*square(num)\n",
    "\n",
    "def circCircumf(num):\n",
    "    return 2*pi*num\n",
    "\n",
    "raduis = float(input(\"Enter a raduius for a circle: \"))\n",
    "\n",
    "print(\"Area of a circle is: {}\".format(areaCirc(raduis)))\n",
    "print(\"circumference of a circle is: {}\".format(circCircumf(raduis)))\n",
    "    "
   ]
  },
  {
   "cell_type": "code",
   "execution_count": 13,
   "id": "50bed985",
   "metadata": {},
   "outputs": [
    {
     "name": "stdout",
     "output_type": "stream",
     "text": [
      "The volume of a sphere is: 523.3333333333334\n"
     ]
    }
   ],
   "source": [
    "pi = 3.14159\n",
    "def sphereVol(rad):\n",
    "    return ((4/3) * pi * (rad ** 3))\n",
    "\n",
    "raduis = 2\n",
    "print(\"The volume of a sphere is: {}\".format(sphereVol(raduis)))"
   ]
  },
  {
   "cell_type": "code",
   "execution_count": 16,
   "id": "5d4f97a8",
   "metadata": {},
   "outputs": [
    {
     "name": "stdout",
     "output_type": "stream",
     "text": [
      "------------------------------------------------------------------------------\n",
      "Type one of the following options:\n",
      "1 for Addition\t\t\t2 for subtraction\n",
      "3 for multiplication\t\t4 for division\n",
      "------------------------------------------------------------------------------\n"
     ]
    }
   ],
   "source": [
    "def dashboard():\n",
    "    print(\"-----------------------------------------------------------------------------\")\n",
    "    print(\"Type one of the following options:\")\n",
    "    print(\"1 for Addition\t\t\t2 for subtraction\")\n",
    "    print(\"3 for multiplication\t\t4 for division\")\n",
    "    print(\"------------------------------------------------------------------------------\")\n",
    "    \n",
    "dashboard()"
   ]
  },
  {
   "cell_type": "code",
   "execution_count": 17,
   "id": "109dfe3b",
   "metadata": {},
   "outputs": [
    {
     "name": "stdout",
     "output_type": "stream",
     "text": [
      "2\n",
      "4\n"
     ]
    }
   ],
   "source": [
    "for i in [2,4,5]:\n",
    "    if(i%2 == 0):\n",
    "        print(i)"
   ]
  },
  {
   "cell_type": "code",
   "execution_count": 19,
   "id": "044e71ed",
   "metadata": {},
   "outputs": [
    {
     "name": "stdout",
     "output_type": "stream",
     "text": [
      "11\n"
     ]
    }
   ],
   "source": [
    "sum = 0\n",
    "for i in [2,4,5]:\n",
    "    sum= sum+i\n",
    "print(sum)"
   ]
  },
  {
   "cell_type": "code",
   "execution_count": 24,
   "id": "d972839f",
   "metadata": {},
   "outputs": [
    {
     "name": "stdout",
     "output_type": "stream",
     "text": [
      "2\n",
      "6\n",
      "11\n",
      "11\n"
     ]
    }
   ],
   "source": [
    "sum = 0\n",
    "for i in [2,4,5]:\n",
    "    sum= sum+i\n",
    "    print(sum)\n",
    "print(sum)"
   ]
  },
  {
   "cell_type": "code",
   "execution_count": 26,
   "id": "a4eb2c18",
   "metadata": {},
   "outputs": [
    {
     "name": "stdout",
     "output_type": "stream",
     "text": [
      "i =  2 sum =  2\n",
      "i =  4 sum =  6\n",
      "6\n"
     ]
    }
   ],
   "source": [
    "sum = 0\n",
    "for i in [2,4,5]:\n",
    "    if(i%2==0):\n",
    "        sum= sum+i\n",
    "        print(\"i = \",i ,\"sum = \",sum)\n",
    "print(sum)"
   ]
  },
  {
   "cell_type": "code",
   "execution_count": 30,
   "id": "ae88fc76",
   "metadata": {},
   "outputs": [
    {
     "name": "stdout",
     "output_type": "stream",
     "text": [
      "range(0, 4)\n",
      "[0, 1, 2, 3]\n",
      "(0, 1, 2, 3)\n"
     ]
    }
   ],
   "source": [
    "r = range(0,4)\n",
    "print(r)\n",
    "print(list(r))\n",
    "print(tuple(r))"
   ]
  },
  {
   "cell_type": "code",
   "execution_count": 31,
   "id": "a41323dc",
   "metadata": {},
   "outputs": [
    {
     "name": "stdout",
     "output_type": "stream",
     "text": [
      "[1, 2, 3, 4, 5]\n",
      "[1, 3, 5]\n",
      "[0, 2, 4]\n",
      "[0, 3]\n",
      "[0, 3, 6]\n",
      "[]\n",
      "[8, 7, 6]\n",
      "[8, 6, 4]\n",
      "[8, 6, 4, 2]\n"
     ]
    }
   ],
   "source": [
    "print(list(range(1,6)))\n",
    "print(list(range(1,6,2)))\n",
    "print(list(range(0,6,2)))\n",
    "print(list(range(0,6,3)))\n",
    "print(list(range(0,8,3)))\n",
    "print(list(range(7,8,-1)))\n",
    "print(list(range(8,5,-1)))\n",
    "print(list(range(8,2,-2)))\n",
    "print(list(range(8,1,-2)))"
   ]
  },
  {
   "cell_type": "code",
   "execution_count": 32,
   "id": "bc35a06c",
   "metadata": {},
   "outputs": [
    {
     "name": "stdout",
     "output_type": "stream",
     "text": [
      "0\n",
      "1\n",
      "2\n",
      "3\n"
     ]
    }
   ],
   "source": [
    "for i in range(0,4):\n",
    "    print(i)"
   ]
  },
  {
   "cell_type": "code",
   "execution_count": 33,
   "id": "8aa3ee1a",
   "metadata": {},
   "outputs": [
    {
     "name": "stdout",
     "output_type": "stream",
     "text": [
      "1\n",
      "3\n"
     ]
    }
   ],
   "source": [
    "for i in range(0,4):\n",
    "    if(i%2 != 0):\n",
    "        print(i)"
   ]
  },
  {
   "cell_type": "code",
   "execution_count": 34,
   "id": "b59067b4",
   "metadata": {},
   "outputs": [
    {
     "name": "stdout",
     "output_type": "stream",
     "text": [
      "0\n",
      "2\n",
      "4\n",
      "6\n"
     ]
    }
   ],
   "source": [
    "for i in range(0,8,2):\n",
    "    print(i)"
   ]
  },
  {
   "cell_type": "code",
   "execution_count": 36,
   "id": "f3b7a0f5",
   "metadata": {},
   "outputs": [
    {
     "name": "stdout",
     "output_type": "stream",
     "text": [
      "0\n",
      "6\n"
     ]
    }
   ],
   "source": [
    "for i in range(0,8,3):\n",
    "    if (i % 2 == 0):\n",
    "        print(i)"
   ]
  },
  {
   "cell_type": "code",
   "execution_count": 37,
   "id": "9b3dd0ee",
   "metadata": {},
   "outputs": [
    {
     "name": "stdout",
     "output_type": "stream",
     "text": [
      "12\n"
     ]
    }
   ],
   "source": [
    "sum = 0\n",
    "for i in range(0,8,2):\n",
    "    sum += i\n",
    "print(sum)"
   ]
  },
  {
   "cell_type": "code",
   "execution_count": 38,
   "id": "e0639356",
   "metadata": {},
   "outputs": [
    {
     "name": "stdout",
     "output_type": "stream",
     "text": [
      "16\n"
     ]
    }
   ],
   "source": [
    "sum = 0\n",
    "for i in range(1,8,2):\n",
    "    sum += i\n",
    "print(sum)"
   ]
  },
  {
   "cell_type": "code",
   "execution_count": 39,
   "id": "80f0bf34",
   "metadata": {},
   "outputs": [
    {
     "name": "stdout",
     "output_type": "stream",
     "text": [
      "i = 1 sum = 1\n",
      "i = 3 sum = 4\n",
      "i = 5 sum = 9\n",
      "i = 7 sum = 16\n",
      "16\n"
     ]
    }
   ],
   "source": [
    "sum = 0\n",
    "for i in range(1,8,2):\n",
    "    sum += i\n",
    "    print(\"i = {} sum = {}\".format(i,sum))\n",
    "print(sum)"
   ]
  },
  {
   "cell_type": "code",
   "execution_count": 40,
   "id": "c03c0cda",
   "metadata": {},
   "outputs": [
    {
     "name": "stdout",
     "output_type": "stream",
     "text": [
      "i = 8 sum = 8\n",
      "i = 6 sum = 14\n",
      "i = 4 sum = 18\n",
      "i = 2 sum = 20\n",
      "20\n"
     ]
    }
   ],
   "source": [
    "sum = 0\n",
    "for i in range(8,1,-2):\n",
    "    sum += i\n",
    "    print(\"i = {} sum = {}\".format(i,sum))\n",
    "print(sum)"
   ]
  },
  {
   "cell_type": "code",
   "execution_count": 43,
   "id": "c9a17efa",
   "metadata": {},
   "outputs": [
    {
     "name": "stdout",
     "output_type": "stream",
     "text": [
      "Enter lower limit of a range3\n",
      "Enter upper limit of a range6\n",
      "3\n",
      "4\n",
      "5\n",
      "6\n"
     ]
    }
   ],
   "source": [
    "#a.\tWrite a program which take a range from the users and display all numbers in the range.\n",
    "lower = int(input(\"Enter lower limit of a range: \"))\n",
    "upper = int(input(\"Enter upper limit of a range: \"))\n",
    "\n",
    "for i in range(lower, upper + 1):\n",
    "    print(i)"
   ]
  },
  {
   "cell_type": "code",
   "execution_count": 47,
   "id": "481fa609",
   "metadata": {},
   "outputs": [
    {
     "name": "stdout",
     "output_type": "stream",
     "text": [
      "Enter lower limit of a range2\n",
      "Enter upper limit of a range8\n",
      "3\n",
      "5\n",
      "7\n"
     ]
    }
   ],
   "source": [
    "lower = int(input(\"Enter lower limit of a range: \"))\n",
    "upper = int(input(\"Enter upper limit of a range: \"))\n",
    "\n",
    "for i in range(lower, upper+1):\n",
    "    if(i % 2 == 1):\n",
    "        print(i)"
   ]
  },
  {
   "cell_type": "code",
   "execution_count": 49,
   "id": "4fd64435",
   "metadata": {},
   "outputs": [
    {
     "name": "stdout",
     "output_type": "stream",
     "text": [
      "Enter lower limit of a range: 3\n",
      "Enter upper limit of a range: 19\n",
      "5\n",
      "10\n",
      "15\n"
     ]
    }
   ],
   "source": [
    "lower = int(input(\"Enter lower limit of a range: \"))\n",
    "upper = int(input(\"Enter upper limit of a range: \"))\n",
    "\n",
    "for i in range(lower, upper+1):\n",
    "    if(i % 5 == 0):\n",
    "        print(i)"
   ]
  },
  {
   "cell_type": "code",
   "execution_count": 50,
   "id": "0adac594",
   "metadata": {},
   "outputs": [
    {
     "name": "stdout",
     "output_type": "stream",
     "text": [
      "Enter lower limit of a range: 2\n",
      "Enter upper limit of a range: 6\n",
      "20\n"
     ]
    }
   ],
   "source": [
    "lower = int(input(\"Enter lower limit of a range: \"))\n",
    "upper = int(input(\"Enter upper limit of a range: \"))\n",
    "\n",
    "sum = 0\n",
    "\n",
    "for i in range(lower, upper+1):\n",
    "    sum+=i\n",
    "    \n",
    "print(sum)"
   ]
  },
  {
   "cell_type": "code",
   "execution_count": 51,
   "id": "cac72fd8",
   "metadata": {},
   "outputs": [
    {
     "name": "stdout",
     "output_type": "stream",
     "text": [
      "Enter lower limit of a range: 2\n",
      "Enter upper limit of a range: 19\n",
      "i = 5 sum = 5\n",
      "i = 10 sum = 15\n",
      "i = 15 sum = 30\n",
      "30\n"
     ]
    }
   ],
   "source": [
    "lower = int(input(\"Enter lower limit of a range: \"))\n",
    "upper = int(input(\"Enter upper limit of a range: \"))\n",
    "\n",
    "sum = 0\n",
    "\n",
    "for i in range(lower, upper+1):\n",
    "    if(i % 5 ==0):\n",
    "        sum+=i\n",
    "        print(\"i = {} sum = {}\".format(i,sum))\n",
    "    \n",
    "print(sum)"
   ]
  },
  {
   "cell_type": "code",
   "execution_count": 53,
   "id": "47dec967",
   "metadata": {},
   "outputs": [
    {
     "name": "stdout",
     "output_type": "stream",
     "text": [
      "1\n",
      "3\n"
     ]
    }
   ],
   "source": [
    "i = 1\n",
    "while i < 5:\n",
    "    print(i)\n",
    "    i = i+2\n",
    "    "
   ]
  },
  {
   "cell_type": "code",
   "execution_count": 54,
   "id": "83768f51",
   "metadata": {},
   "outputs": [
    {
     "name": "stdout",
     "output_type": "stream",
     "text": [
      "1\n",
      "3\n"
     ]
    }
   ],
   "source": [
    "i = 1\n",
    "while i < 5:\n",
    "    if i%2 ==0:\n",
    "        i= i+1\n",
    "        continue\n",
    "    print(i)\n",
    "    i = i+1"
   ]
  },
  {
   "cell_type": "code",
   "execution_count": 55,
   "id": "dbd8a7eb",
   "metadata": {},
   "outputs": [
    {
     "name": "stdout",
     "output_type": "stream",
     "text": [
      "1\n",
      "2\n",
      "3\n"
     ]
    }
   ],
   "source": [
    "i = 1\n",
    "while i < 10:\n",
    "    if i==4:\n",
    "        break\n",
    "    print(i)\n",
    "    i+=1"
   ]
  },
  {
   "cell_type": "code",
   "execution_count": 57,
   "id": "57c34359",
   "metadata": {},
   "outputs": [
    {
     "name": "stdout",
     "output_type": "stream",
     "text": [
      "Enter lower limit of range: 3\n",
      "Enter upper limit of range: 6\n",
      "3\n",
      "4\n",
      "5\n",
      "6\n"
     ]
    }
   ],
   "source": [
    "i = int(input(\"Enter lower limit of range: \"))\n",
    "last = int(input(\"Enter upper limit of range: \"))\n",
    "while i < last+1:\n",
    "    print(i)\n",
    "    i+=1"
   ]
  },
  {
   "cell_type": "code",
   "execution_count": 60,
   "id": "4142c082",
   "metadata": {},
   "outputs": [
    {
     "name": "stdout",
     "output_type": "stream",
     "text": [
      "Enter lower limit of range: 2\n",
      "Enter upper limit of range: 8\n",
      "3\n",
      "5\n",
      "7\n"
     ]
    }
   ],
   "source": [
    "i = int(input(\"Enter lower limit of range: \"))\n",
    "last = int(input(\"Enter upper limit of range: \"))\n",
    "while i < last+1:\n",
    "    if(i %2) == 1:\n",
    "        print(i)\n",
    "    i+=1"
   ]
  },
  {
   "cell_type": "code",
   "execution_count": 61,
   "id": "138a4a34",
   "metadata": {},
   "outputs": [
    {
     "name": "stdout",
     "output_type": "stream",
     "text": [
      "Enter lower limit of range: 3\n",
      "Enter upper limit of range: 19\n",
      "5\n",
      "10\n",
      "15\n"
     ]
    }
   ],
   "source": [
    "i = int(input(\"Enter lower limit of range: \"))\n",
    "last = int(input(\"Enter upper limit of range: \"))\n",
    "while i < last+1:\n",
    "    if(i %5) == 0:\n",
    "        print(i)\n",
    "    i+=1"
   ]
  },
  {
   "cell_type": "code",
   "execution_count": 63,
   "id": "672715e5",
   "metadata": {},
   "outputs": [
    {
     "name": "stdout",
     "output_type": "stream",
     "text": [
      "Enter lower limit of range: 2\n",
      "Enter upper limit of range: 6\n",
      "20\n"
     ]
    }
   ],
   "source": [
    "i = int(input(\"Enter lower limit of range: \"))\n",
    "last = int(input(\"Enter upper limit of range: \"))\n",
    "sum = 0\n",
    "while i < last+1:\n",
    "    sum += i\n",
    "    i+=1\n",
    "print(sum)"
   ]
  },
  {
   "cell_type": "code",
   "execution_count": 65,
   "id": "bd8550c2",
   "metadata": {},
   "outputs": [
    {
     "name": "stdout",
     "output_type": "stream",
     "text": [
      "Enter lower limit of range: 2\n",
      "Enter upper limit of range: 19\n",
      "i = 5, sum = 5\n",
      "i = 10, sum = 15\n",
      "i = 15, sum = 30\n",
      "30\n"
     ]
    }
   ],
   "source": [
    "i = int(input(\"Enter lower limit of range: \"))\n",
    "last = int(input(\"Enter upper limit of range: \"))\n",
    "sum = 0\n",
    "while i < last+1:\n",
    "    if( i % 5)==0:\n",
    "        sum += i\n",
    "        print(\"i = {}, sum = {}\".format(i,sum))\n",
    "    i+=1\n"
   ]
  },
  {
   "cell_type": "code",
   "execution_count": 80,
   "id": "2b513444",
   "metadata": {},
   "outputs": [
    {
     "name": "stdout",
     "output_type": "stream",
     "text": [
      "value of r is 4\n",
      "value of r is 8\n",
      "value of r is 8\n",
      "value of r is 6\n",
      "value of r is 9\n",
      "value of r is 8\n",
      "value of r is 9\n",
      "value of r is 0\n",
      "value of r after loop 0\n"
     ]
    }
   ],
   "source": [
    "import random\n",
    "\n",
    "while True:\n",
    "    r = random.randint(0, 10)\n",
    "    print(\"value of r is\", r)\n",
    "    \n",
    "    if r == 0:\n",
    "        print(\"value of r after loop {}\".format(r))\n",
    "        break"
   ]
  },
  {
   "cell_type": "code",
   "execution_count": 85,
   "id": "f3ec93f8",
   "metadata": {},
   "outputs": [
    {
     "name": "stdout",
     "output_type": "stream",
     "text": [
      "Enter your first number: 10\n",
      "Enter your next number: 21\n",
      "Enter your next number: 32\n",
      "Enter your next number: 0\n",
      "sum of all numbers you entered is:  63\n"
     ]
    }
   ],
   "source": [
    "sum = 0\n",
    "index = 0\n",
    "while index >= 0:\n",
    "    if index == 0:\n",
    "        i = int(input(\"Enter your first number: \"))\n",
    "    else:\n",
    "        i = int(input(\"Enter your next number: \"))\n",
    "    if i == 0:\n",
    "        print(\"sum of all numbers you entered is: \", sum)\n",
    "        break\n",
    "    sum += i\n",
    "    index+=1\n",
    "    "
   ]
  },
  {
   "cell_type": "code",
   "execution_count": 86,
   "id": "466ee699",
   "metadata": {},
   "outputs": [
    {
     "name": "stdout",
     "output_type": "stream",
     "text": [
      "hello alhai\n"
     ]
    }
   ],
   "source": [
    "print(\"hello alhai\")"
   ]
  },
  {
   "cell_type": "code",
   "execution_count": null,
   "id": "4e89b8c0",
   "metadata": {},
   "outputs": [],
   "source": []
  }
 ],
 "metadata": {
  "kernelspec": {
   "display_name": "Python 3 (ipykernel)",
   "language": "python",
   "name": "python3"
  },
  "language_info": {
   "codemirror_mode": {
    "name": "ipython",
    "version": 3
   },
   "file_extension": ".py",
   "mimetype": "text/x-python",
   "name": "python",
   "nbconvert_exporter": "python",
   "pygments_lexer": "ipython3",
   "version": "3.10.9"
  }
 },
 "nbformat": 4,
 "nbformat_minor": 5
}
